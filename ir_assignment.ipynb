{
  "nbformat": 4,
  "nbformat_minor": 0,
  "metadata": {
    "kernelspec": {
      "display_name": "Python 3",
      "language": "python",
      "name": "python3"
    },
    "language_info": {
      "codemirror_mode": {
        "name": "ipython",
        "version": 3
      },
      "file_extension": ".py",
      "mimetype": "text/x-python",
      "name": "python",
      "nbconvert_exporter": "python",
      "pygments_lexer": "ipython3",
      "version": "3.6.8"
    },
    "colab": {
      "name": "ir_assignment.ipynb",
      "provenance": []
    }
  },
  "cells": [
    {
      "cell_type": "markdown",
      "metadata": {
        "id": "bdkwQ36739Wi",
        "colab_type": "text"
      },
      "source": [
        "# Assignment 2: IR"
      ]
    },
    {
      "cell_type": "markdown",
      "metadata": {
        "id": "R-gYMXKq39Wj",
        "colab_type": "text"
      },
      "source": [
        "## Preparations\n",
        "* Put all your imports, and path constants in the next cells\n",
        "* Make sure all your path constants are **relative to** ***DATA_DIR*** and **NOT hard-coded** in your code."
      ]
    },
    {
      "cell_type": "code",
      "metadata": {
        "id": "QSChF98s8ErB",
        "colab_type": "code",
        "colab": {}
      },
      "source": [
        "!pip install whoosh\n",
        "!pip install pytrec_eval\n",
        "!pip install wget"
      ],
      "execution_count": 0,
      "outputs": []
    },
    {
      "cell_type": "code",
      "metadata": {
        "id": "0HIF5uBV8cRy",
        "colab_type": "code",
        "colab": {}
      },
      "source": [
        "import wget\n",
        "wget.download(\"https://github.com/MIE451-1513-2019/course-datasets/raw/master/government.zip\", \"government.zip\")"
      ],
      "execution_count": 0,
      "outputs": []
    },
    {
      "cell_type": "code",
      "metadata": {
        "id": "xN-TAsbPAsRm",
        "colab_type": "code",
        "colab": {}
      },
      "source": [
        "!unzip government.zip"
      ],
      "execution_count": 0,
      "outputs": []
    },
    {
      "cell_type": "code",
      "metadata": {
        "id": "7VNv24P839Wk",
        "colab_type": "code",
        "colab": {}
      },
      "source": [
        "# imports\n",
        "# Put all your imports here"
      ],
      "execution_count": 0,
      "outputs": []
    },
    {
      "cell_type": "code",
      "metadata": {
        "id": "6CTt1NZr39Wo",
        "colab_type": "code",
        "colab": {}
      },
      "source": [
        "DATA_DIR = \"government\"\n",
        "#\n",
        "# Put other path constants here\n",
        "#"
      ],
      "execution_count": 0,
      "outputs": []
    },
    {
      "cell_type": "markdown",
      "metadata": {
        "id": "m1of-Wop39Ws",
        "colab_type": "text"
      },
      "source": [
        "## Question 1\n",
        "Provide your text answers in the following two markdown cells"
      ]
    },
    {
      "cell_type": "markdown",
      "metadata": {
        "id": "Pu_aozrL39Ws",
        "colab_type": "text"
      },
      "source": [
        "### Q1 (a): Provide answer to Q1 (a) here [markdown cell]"
      ]
    },
    {
      "cell_type": "markdown",
      "metadata": {
        "id": "YVMD_vZn39Wt",
        "colab_type": "text"
      },
      "source": [
        "### Q1 (b): Provide answer to Q1 (b) here [markdown cell]"
      ]
    },
    {
      "cell_type": "markdown",
      "metadata": {
        "id": "MaebEQWj39Wt",
        "colab_type": "text"
      },
      "source": [
        "## Question 2"
      ]
    },
    {
      "cell_type": "markdown",
      "metadata": {
        "id": "OLwEGzwz39Wu",
        "colab_type": "text"
      },
      "source": [
        "### Q2 (a): Write your code below"
      ]
    },
    {
      "cell_type": "code",
      "metadata": {
        "id": "v5ZkoByd39Wv",
        "colab_type": "code",
        "colab": {}
      },
      "source": [
        "# Put your code for creating the index here (you can add more cells).\n",
        "# Make sure you save the final index in the variable INDEX_Q2, your query parser in QP_Q2, and your searcher in SEARCHER_Q2"
      ],
      "execution_count": 0,
      "outputs": []
    },
    {
      "cell_type": "code",
      "metadata": {
        "id": "ibPPoKXF39Wx",
        "colab_type": "code",
        "colab": {}
      },
      "source": [
        "INDEX_Q2 = None # Replace None with your index for Q2\n",
        "QP_Q2 = None # Replace None with your query parser for Q2\n",
        "SEARCHER_Q2 = None # Replace None with your searcher for Q2"
      ],
      "execution_count": 0,
      "outputs": []
    },
    {
      "cell_type": "markdown",
      "metadata": {
        "id": "Bs-qgnks39Wz",
        "colab_type": "text"
      },
      "source": [
        "### Q2 (b): Provide answer to Q2 (b) here [markdown cell]"
      ]
    },
    {
      "cell_type": "markdown",
      "metadata": {
        "id": "0TUIW6hV39Wz",
        "colab_type": "text"
      },
      "source": [
        "### Q2 (c): Provide answer to Q2(c) here [markdown cell]"
      ]
    },
    {
      "cell_type": "markdown",
      "metadata": {
        "id": "N_e8DZ3K39W0",
        "colab_type": "text"
      },
      "source": [
        "## Question 3"
      ]
    },
    {
      "cell_type": "markdown",
      "metadata": {
        "id": "yD0gzOt239W1",
        "colab_type": "text"
      },
      "source": [
        "### Q3 (a): Provide answer to Q3 (a) here [markdown cell]"
      ]
    },
    {
      "cell_type": "markdown",
      "metadata": {
        "id": "tzwPVMgc39W1",
        "colab_type": "text"
      },
      "source": [
        "### Q3 (b): Write your code below"
      ]
    },
    {
      "cell_type": "code",
      "metadata": {
        "id": "mAef6qiu39W2",
        "colab_type": "code",
        "colab": {}
      },
      "source": [
        "# Put your code for creating the index here (you can add more cells).\n",
        "# Make sure you save the final index in the variable INDEX_Q3, your query parser in QP_Q3, and your searcher in SEARCHER_Q3"
      ],
      "execution_count": 0,
      "outputs": []
    },
    {
      "cell_type": "code",
      "metadata": {
        "id": "_H6yUwtd39W4",
        "colab_type": "code",
        "colab": {}
      },
      "source": [
        "INDEX_Q3 = None # Replace None with your index for Q3\n",
        "QP_Q3 = None # Replace None with your query parser for Q3\n",
        "SEARCHER_Q3 = None # Replace None with your searcher for Q3"
      ],
      "execution_count": 0,
      "outputs": []
    },
    {
      "cell_type": "markdown",
      "metadata": {
        "id": "mD4nxtDK39W7",
        "colab_type": "text"
      },
      "source": [
        "### Q3 (c): Provide answer to Q3 (c) here [markdown cell]"
      ]
    },
    {
      "cell_type": "markdown",
      "metadata": {
        "id": "cntL2Jdt39W8",
        "colab_type": "text"
      },
      "source": [
        "### Q3 (d): Provide answer to Q3 (d) here [markdown cell]"
      ]
    },
    {
      "cell_type": "markdown",
      "metadata": {
        "id": "iKhLuIOw39W8",
        "colab_type": "text"
      },
      "source": [
        "### Q3 (e): Provide answer to Q3 (e) here [markdown cell]"
      ]
    },
    {
      "cell_type": "markdown",
      "metadata": {
        "id": "Hl4AUf0n39W9",
        "colab_type": "text"
      },
      "source": [
        "### Q3 (f): Provide answer to Q3 (f) here [markdown cell]"
      ]
    },
    {
      "cell_type": "markdown",
      "metadata": {
        "id": "Vs6teq2k39W-",
        "colab_type": "text"
      },
      "source": [
        "## Question 4"
      ]
    },
    {
      "cell_type": "code",
      "metadata": {
        "id": "2-ZpjRdN39XD",
        "colab_type": "code",
        "colab": {}
      },
      "source": [
        "# Put your code for creating the index here (you can add more cells).\n",
        "# Make sure you save the final index in the variable INDEX_Q4, your query parser in QP_Q4, and your searcher in SEARCHER_Q4"
      ],
      "execution_count": 0,
      "outputs": []
    },
    {
      "cell_type": "markdown",
      "metadata": {
        "id": "NPjJXXa_vX_7",
        "colab_type": "text"
      },
      "source": [
        "### Please answer the following questions here\n",
        "(a) A clear list of all final modifications made.  \n",
        "(b)  Why each modification was made – how did it help?  \n",
        "(c)  The  final  MAP  performance  that  these  modifications  attained."
      ]
    },
    {
      "cell_type": "code",
      "metadata": {
        "id": "Ja1MLfC_39XG",
        "colab_type": "code",
        "colab": {}
      },
      "source": [
        "INDEX_Q4 = None # Replace None with your index for Q4\n",
        "QP_Q4 = None # Replace None with your query parser for Q4\n",
        "SEARCHER_Q4 = None # Replace None with your searcher for Q4"
      ],
      "execution_count": 0,
      "outputs": []
    },
    {
      "cell_type": "markdown",
      "metadata": {
        "id": "SxIckwJc39XL",
        "colab_type": "text"
      },
      "source": [
        "## Validation"
      ]
    },
    {
      "cell_type": "code",
      "metadata": {
        "id": "t8aamYn839XL",
        "colab_type": "code",
        "colab": {}
      },
      "source": [
        "# Run the following cells to make sure your code returns the correct value types"
      ],
      "execution_count": 0,
      "outputs": []
    },
    {
      "cell_type": "code",
      "metadata": {
        "id": "jniUiH1b39XO",
        "colab_type": "code",
        "colab": {}
      },
      "source": [
        "from whoosh.index import FileIndex\n",
        "from whoosh.qparser import QueryParser\n",
        "from whoosh.searching import Searcher\n",
        "import os.path"
      ],
      "execution_count": 0,
      "outputs": []
    },
    {
      "cell_type": "markdown",
      "metadata": {
        "id": "X3YfPSiI39XR",
        "colab_type": "text"
      },
      "source": [
        "### Q2 Validation"
      ]
    },
    {
      "cell_type": "code",
      "metadata": {
        "id": "3GCl6C7n39XS",
        "colab_type": "code",
        "colab": {}
      },
      "source": [
        "assert(isinstance(INDEX_Q2, FileIndex)), \"Index Type\"\n",
        "assert(isinstance(QP_Q2, QueryParser)), \"Query Parser Type\"\n",
        "assert(isinstance(SEARCHER_Q2, Searcher)), \"Searcher Type\"\n",
        "print(\"Q2 Types Validated\")"
      ],
      "execution_count": 0,
      "outputs": []
    },
    {
      "cell_type": "markdown",
      "metadata": {
        "id": "t9aZQ-PY39XW",
        "colab_type": "text"
      },
      "source": [
        "### Q3 Validation"
      ]
    },
    {
      "cell_type": "code",
      "metadata": {
        "id": "rEKvL0g-39XX",
        "colab_type": "code",
        "colab": {}
      },
      "source": [
        "assert(isinstance(INDEX_Q3, FileIndex)), \"Index Type\"\n",
        "assert(isinstance(QP_Q3, QueryParser)), \"Query Parser Type\"\n",
        "assert(isinstance(SEARCHER_Q3, Searcher)), \"Searcher Type\"\n",
        "print(\"Q3 Types Validated\")"
      ],
      "execution_count": 0,
      "outputs": []
    },
    {
      "cell_type": "markdown",
      "metadata": {
        "id": "KO5zjmDt39Xd",
        "colab_type": "text"
      },
      "source": [
        "### Q4 Validation"
      ]
    },
    {
      "cell_type": "code",
      "metadata": {
        "id": "ddGGFQMP39Xd",
        "colab_type": "code",
        "colab": {}
      },
      "source": [
        "assert(isinstance(INDEX_Q4, FileIndex)), \"Index Type\"\n",
        "assert(isinstance(QP_Q4, QueryParser)), \"Query Parser Type\"\n",
        "assert(isinstance(SEARCHER_Q4, Searcher)), \"Searcher Type\"\n",
        "print(\"Q4 Types Validated\")"
      ],
      "execution_count": 0,
      "outputs": []
    },
    {
      "cell_type": "code",
      "metadata": {
        "id": "OGcGddmR39Xf",
        "colab_type": "code",
        "colab": {}
      },
      "source": [
        ""
      ],
      "execution_count": 0,
      "outputs": []
    }
  ]
}